{
 "cells": [
  {
   "cell_type": "markdown",
   "id": "f2d1cd9c",
   "metadata": {},
   "source": [
    "# Exercício 1"
   ]
  },
  {
   "cell_type": "markdown",
   "id": "1f00e86f",
   "metadata": {},
   "source": [
    "<p>Faça um programa que peça um valor monetário e diminua-o em 15%. Seu programa deve imprimir a mensagem “O novo valor é [valor]”.</p>"
   ]
  },
  {
   "cell_type": "code",
   "execution_count": 3,
   "id": "46bfe006",
   "metadata": {},
   "outputs": [
    {
     "name": "stdout",
     "output_type": "stream",
     "text": [
      "Digite um valor monetário: 2.50\n",
      "O novo valor é 2.12\n"
     ]
    }
   ],
   "source": [
    "valor = input('Digite um valor monetário: ')\n",
    "novo_valor = float(valor) - float(valor)*0.15\n",
    "print(f'O novo valor é {novo_valor:.2f}')"
   ]
  },
  {
   "cell_type": "markdown",
   "id": "b2805d83",
   "metadata": {},
   "source": [
    "# Exercício 2"
   ]
  },
  {
   "cell_type": "markdown",
   "id": "191f4ec0",
   "metadata": {},
   "source": [
    "<p>Faça um programa que leia a validade das informações:</p>\n",
    "<ol>\n",
    "    <li type=\"a\">Idade: entre 0 e 150;</li>\n",
    "    <li type=\"a\">Salário: maior que 0;</li>\n",
    "    <li type=\"a\">Sexo: M, F ou Outro.</li>\n",
    "</ol>\n",
    "<p>O programa deve imprimir uma mensagem de erro para cada informação inválida.</p>"
   ]
  },
  {
   "cell_type": "code",
   "execution_count": 15,
   "id": "f02a7303",
   "metadata": {},
   "outputs": [
    {
     "name": "stdout",
     "output_type": "stream",
     "text": [
      "Digite uma idade entre 0 e 150: 15\n",
      "Digite o valor de um salário maior que 0: 2500\n",
      "Digite seu sexo ('M', 'F' ou 'Outros'): f\n"
     ]
    }
   ],
   "source": [
    "while True:\n",
    "    try:\n",
    "        idade = input('Digite uma idade entre 0 e 150: ')\n",
    "        if not int(idade) > 0 or not int(idade) < 150:\n",
    "               raise ValueError('Erro: digite uma idade entre 0 e 150')\n",
    "        salario = input('Digite o valor de um salário maior que 0: ')\n",
    "        if float(salario) <= 0:\n",
    "            raise ValueError('Erro: o salário deve ser maior que 0.')\n",
    "        sexo = input('Digite seu sexo (\\'M\\', \\'F\\' ou \\'Outros\\'): ')\n",
    "        sexo = sexo.strip()\n",
    "        sexo = sexo.upper()\n",
    "        if sexo not in ['M', 'F', 'OUTROS']:\n",
    "            raise ValueError('Erro: o sexo deve ser \\'M\\', \\'F\\' ou \\'Outros\\'.')\n",
    "        break\n",
    "    except ValueError as er:\n",
    "        print(er)"
   ]
  },
  {
   "cell_type": "markdown",
   "id": "1908a583",
   "metadata": {},
   "source": [
    "# Exercício 3"
   ]
  },
  {
   "cell_type": "markdown",
   "id": "7b46d08d",
   "metadata": {},
   "source": [
    "<p>Fazer um programa para verificar quem é o assassino de um crime. Para descobrir o assassino, a polícia faz um pequeno questionário com 5 perguntas onde a resposta só pode ser sim ou não:</p>\n",
    "<ol>\n",
    "    <li type=\"a\">a. Mora perto da vítima?</li>\n",
    "    <li type=\"a\">b. Já trabalhou com a vítima?</li>\n",
    "    <li type=\"a\">c. Telefonou para a vítima?</li>\n",
    "    <li type=\"a\">d. Esteve no local do crime?</li>\n",
    "    <li type=\"a\">e. Devia para a vítima?</li>\n",
    "</ol>\n",
    "<p>\n",
    "Cada resposta sim dá um ponto para o suspeito. A polícia considera que os suspeitos com 5 pontos são os assassinos, com 4 a 3 pontos são cúmplices e 2 pontos são apenas suspeitos, necessitando outras investigações. Valores iguais ou abaixo de 1 são liberados.</p>"
   ]
  },
  {
   "cell_type": "code",
   "execution_count": 30,
   "id": "a7b44f99",
   "metadata": {},
   "outputs": [
    {
     "name": "stdout",
     "output_type": "stream",
     "text": [
      "Mora perto da vítima? sim\n",
      "Já trabalhou com a vítima? sim\n",
      "Telefonou para a vítima? sim\n",
      "Esteve no local do crime? sim\n",
      "Devia para a vítima? nao\n",
      "A polícia considera-o como: Cúmplice.\n"
     ]
    }
   ],
   "source": [
    "perguntas = [\n",
    "    'Mora perto da vítima?',\n",
    "    'Já trabalhou com a vítima?',\n",
    "    'Telefonou para a vítima?',\n",
    "    'Esteve no local do crime?',\n",
    "    'Devia para a vítima?',\n",
    "]\n",
    "\n",
    "resultado = {\n",
    "    0: 'Inocente',\n",
    "    1: 'Inocente',\n",
    "    2: 'Suspeito',\n",
    "    3: 'Cúmplice',\n",
    "    4: 'Cúmplice',\n",
    "    5: 'Assassino'\n",
    "}\n",
    "\n",
    "while True:\n",
    "    try:\n",
    "        placar = 0\n",
    "        for p in perguntas:\n",
    "            resposta = input(f'{p} ')\n",
    "            resposta = resposta.strip()\n",
    "            resposta = resposta.upper()\n",
    "            if resposta not in ['SIM', 'NAO', 'NÃO']:\n",
    "                raise ValueError('Erro: responda somente com \\'Sim\\' ou \\'Não\\'.')\n",
    "            elif resposta == 'SIM':\n",
    "                placar += 1\n",
    "        print(f'A polícia considera-o como: {resultado[placar]}.')\n",
    "        break\n",
    "    except ValueError as er:\n",
    "        print(er)"
   ]
  },
  {
   "cell_type": "markdown",
   "id": "7a541ce4",
   "metadata": {},
   "source": [
    "# Exercício 4"
   ]
  },
  {
   "cell_type": "markdown",
   "id": "a0e0d545",
   "metadata": {},
   "source": [
    "<p>Faça um programa que imprima a tabuada do 9 (de 9*1 a 9*10) usando loops.</p>"
   ]
  },
  {
   "cell_type": "code",
   "execution_count": 32,
   "id": "432bf15c",
   "metadata": {},
   "outputs": [
    {
     "name": "stdout",
     "output_type": "stream",
     "text": [
      "Tabuada do 9:\n",
      "9 x 1 = 9\n",
      "9 x 2 = 18\n",
      "9 x 3 = 27\n",
      "9 x 4 = 36\n",
      "9 x 5 = 45\n",
      "9 x 6 = 54\n",
      "9 x 7 = 63\n",
      "9 x 8 = 72\n",
      "9 x 9 = 81\n",
      "9 x 10 = 90\n"
     ]
    }
   ],
   "source": [
    "print('Tabuada do 9:')\n",
    "for i in range(1, 11):\n",
    "    print(f'9 x {i} = {9*i}')"
   ]
  }
 ],
 "metadata": {
  "kernelspec": {
   "display_name": "Python 3 (ipykernel)",
   "language": "python",
   "name": "python3"
  },
  "language_info": {
   "codemirror_mode": {
    "name": "ipython",
    "version": 3
   },
   "file_extension": ".py",
   "mimetype": "text/x-python",
   "name": "python",
   "nbconvert_exporter": "python",
   "pygments_lexer": "ipython3",
   "version": "3.10.6"
  }
 },
 "nbformat": 4,
 "nbformat_minor": 5
}
