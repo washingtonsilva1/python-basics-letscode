{
 "cells": [
  {
   "cell_type": "markdown",
   "id": "1b02c2ba",
   "metadata": {},
   "source": [
    "# Exercício 1"
   ]
  },
  {
   "cell_type": "markdown",
   "id": "483a8c0c",
   "metadata": {},
   "source": [
    "Criar um programa que abra o arquivo\n",
    "\"alunos.csv\" e imprima o conteúdo do arquivo linha a linha."
   ]
  },
  {
   "cell_type": "code",
   "execution_count": 105,
   "id": "1b5f9c5e",
   "metadata": {},
   "outputs": [
    {
     "name": "stdout",
     "output_type": "stream",
     "text": [
      "RA,Nome,Frequencia,Prova_1,Prova_2,Prova_3,Prova_4\n",
      "110201,Antonio Carlos,20,6.5,8.5,7,6\n",
      "110212,Ana Beatriz,20,7,7,7,8\n",
      "110218,Carlos Vernes,17,7,7,7,7\n",
      "110307,Francisco Cunha,20,9,8.5,8.5,10\n",
      "110275,Sandra Rosa,15,6.5,7.5,7,7\n",
      "110281,Juliana Arruda,18,7.5,7,7.5,8\n",
      "110301,Joao Galo,20,5,6.5,7,5\n",
      "110263,José Valente,20,10,10,10,10\n",
      "110271,Maria Ferreira,19,9.5,8,7,10\n",
      "110236,Adriana Tavares,20,8,8,8,8\n"
     ]
    }
   ],
   "source": [
    "try:\n",
    "    with open('arquivos/alunos.csv', 'r', encoding='utf-8') as alunos:\n",
    "        for linha in alunos:\n",
    "            print(linha, end='')\n",
    "except FileNotFoundError:\n",
    "    print('O arquivo não foi encontrado.')"
   ]
  },
  {
   "cell_type": "markdown",
   "id": "54a6522e",
   "metadata": {},
   "source": [
    "# Exercício 2"
   ]
  },
  {
   "cell_type": "markdown",
   "id": "58cc7eb1",
   "metadata": {},
   "source": [
    "<p>Criar um programa que realize uma\n",
    "cópia do arquivo \"alunos.csv\". Essa cópia deve ser um arquivo chamado\n",
    "\"alunos_copia.csv\".</p>"
   ]
  },
  {
   "cell_type": "code",
   "execution_count": 106,
   "id": "17ba62e2",
   "metadata": {},
   "outputs": [
    {
     "name": "stdout",
     "output_type": "stream",
     "text": [
      "✔ Cópia criada com sucesso!\n"
     ]
    }
   ],
   "source": [
    "try:\n",
    "    with open('arquivos/alunos.csv', 'r', encoding='utf-8') as a1:\n",
    "        data = a1.read()\n",
    "        with open('arquivos/alunos_copia.csv', 'w') as a2:\n",
    "            a2.write(data)\n",
    "    print('✔ Cópia criada com sucesso!')\n",
    "except FileNotFoundError:\n",
    "    print('O arquivo não foi encontrado.')"
   ]
  },
  {
   "cell_type": "markdown",
   "id": "8478ec0a",
   "metadata": {},
   "source": [
    "<p>Caso queira excluir a cópia gerada anteriormente, execute o bloco abaixo.</p>"
   ]
  },
  {
   "cell_type": "code",
   "execution_count": 33,
   "id": "a1676dfd",
   "metadata": {},
   "outputs": [
    {
     "name": "stdout",
     "output_type": "stream",
     "text": [
      "✔ Arquivo deletado com sucesso.\n"
     ]
    }
   ],
   "source": [
    "import os\n",
    "\n",
    "try:\n",
    "    os.remove('arquivos/alunos_copia.csv')\n",
    "    print('✔ Arquivo deletado com sucesso.')\n",
    "except FileNotFoundError:\n",
    "    print('O arquivo não foi encontrado.')"
   ]
  },
  {
   "cell_type": "markdown",
   "id": "128e4088",
   "metadata": {},
   "source": [
    "# Exercício 3"
   ]
  },
  {
   "cell_type": "markdown",
   "id": "24a7975a",
   "metadata": {},
   "source": [
    "<p>Criar um novo arquivo chamado\n",
    "\"alunos_media.csv\". Esse novo arquivo é uma cópia de \"alunos.csv\" porém\n",
    "com uma coluna a mais chamada \"Média\" que vai abrigar os valores das\n",
    "médias das provas de cada aluno da lista.</p>"
   ]
  },
  {
   "cell_type": "code",
   "execution_count": 108,
   "id": "721938a6",
   "metadata": {},
   "outputs": [
    {
     "name": "stdout",
     "output_type": "stream",
     "text": [
      "✔ Arquivo com a média dos alunos criado com sucesso.\n"
     ]
    }
   ],
   "source": [
    "import csv\n",
    "\n",
    "try:\n",
    "    with open('arquivos/alunos.csv', 'r', encoding='utf-8') as alunos:\n",
    "        data_head = alunos.readline().strip().split(',')\n",
    "        data_head.append('Média')\n",
    "        data_alunos = [aluno.strip().split(',') for aluno in alunos]\n",
    "        for data in data_alunos:\n",
    "            media = sum(map(lambda x: float(x), data[3:7])) / 4\n",
    "            data.append('{0:.2f}'.format(media))\n",
    "        with open('arquivos/alunos_media.csv', 'w', newline='\\n') as alunos_media:\n",
    "            csv_writer = csv.writer(alunos_media, delimiter=',')\n",
    "            csv_writer.writerow(data_head)\n",
    "            for aluno in data_alunos:\n",
    "                csv_writer.writerow(aluno)\n",
    "    print('✔ Arquivo com a média dos alunos criado com sucesso.')\n",
    "except FileNotFoundError:\n",
    "    print('O arquivo não foi encontrado.')"
   ]
  }
 ],
 "metadata": {
  "kernelspec": {
   "display_name": "Python 3 (ipykernel)",
   "language": "python",
   "name": "python3"
  },
  "language_info": {
   "codemirror_mode": {
    "name": "ipython",
    "version": 3
   },
   "file_extension": ".py",
   "mimetype": "text/x-python",
   "name": "python",
   "nbconvert_exporter": "python",
   "pygments_lexer": "ipython3",
   "version": "3.10.6"
  }
 },
 "nbformat": 4,
 "nbformat_minor": 5
}
