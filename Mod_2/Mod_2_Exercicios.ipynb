{
 "cells": [
  {
   "cell_type": "markdown",
   "id": "af639b35",
   "metadata": {},
   "source": [
    "# Exercício 1"
   ]
  },
  {
   "cell_type": "markdown",
   "id": "bf61efb7",
   "metadata": {},
   "source": [
    "<p>Faça um programa que olhe todos os itens de uma lista e diga quantos deles são pares.</p>"
   ]
  },
  {
   "cell_type": "code",
   "execution_count": 47,
   "id": "752e981c",
   "metadata": {},
   "outputs": [
    {
     "name": "stdout",
     "output_type": "stream",
     "text": [
      "Digite a quantidade de números a serem gerados: a\n",
      "Digite apenas números, por favor.\n",
      "Digite a quantidade de números a serem gerados: 0\n",
      "Digite um número inteiro maior que 0, por favor.\n",
      "Digite a quantidade de números a serem gerados: 10\n",
      "Existem 4 números pares.\n"
     ]
    }
   ],
   "source": [
    "import random\n",
    "\n",
    "while True:\n",
    "    try:\n",
    "        qtd = input('Digite a quantidade de números a serem gerados: ')\n",
    "        qtd = qtd.strip()\n",
    "        numeros = []\n",
    "        pares = 0\n",
    "        if not qtd.isnumeric():\n",
    "            raise TypeError('Digite apenas números, por favor.')\n",
    "        if int(qtd) <= 0:\n",
    "            raise ValueError('Digite um número inteiro maior que 0, por favor.')\n",
    "        for i in range(0, int(qtd)):\n",
    "            numeros.append(random.randint(1, 10))\n",
    "        for n in numeros:\n",
    "            if n % 2 == 0:\n",
    "                pares += 1\n",
    "        print(f'Existem {pares} números pares.')\n",
    "        break\n",
    "    except TypeError as err:\n",
    "        print(err)\n",
    "    except ValueError as err:\n",
    "        print(err)"
   ]
  },
  {
   "cell_type": "markdown",
   "id": "2f9b4747",
   "metadata": {},
   "source": [
    "# Exercício 2"
   ]
  },
  {
   "cell_type": "markdown",
   "id": "8f154f33",
   "metadata": {},
   "source": [
    "<p>Faça um programa que peça para o usuário digitar uma palavra e imprima cada letra em uma linha.</p>"
   ]
  },
  {
   "cell_type": "code",
   "execution_count": 52,
   "id": "45976395",
   "metadata": {},
   "outputs": [
    {
     "name": "stdout",
     "output_type": "stream",
     "text": [
      "Digite uma palavra: !\n",
      "Digite apenas letras, por favor.\n",
      "Digite uma palavra: Port4\n",
      "Digite apenas letras, por favor.\n",
      "Digite uma palavra: Porta\n",
      "P\n",
      "o\n",
      "r\n",
      "t\n",
      "a\n"
     ]
    }
   ],
   "source": [
    "while True:\n",
    "    try:\n",
    "        palavra = input('Digite uma palavra: ')\n",
    "        palavra = palavra.strip()\n",
    "        if not palavra.isalpha():\n",
    "            raise TypeError('Digite apenas letras, por favor.')\n",
    "        for letra in palavra:\n",
    "            print(letra)\n",
    "        break\n",
    "    except TypeError as err:\n",
    "        print(err)"
   ]
  },
  {
   "cell_type": "markdown",
   "id": "737d3e34",
   "metadata": {},
   "source": [
    "<p>Outra forma de fazer:</p>"
   ]
  },
  {
   "cell_type": "code",
   "execution_count": 51,
   "id": "867d7396",
   "metadata": {
    "scrolled": true
   },
   "outputs": [
    {
     "name": "stdout",
     "output_type": "stream",
     "text": [
      "Digite uma palavra: !\n",
      "Digite apenas letras, por favor.\n",
      "Digite uma palavra: Port4\n",
      "Digite apenas letras, por favor.\n",
      "Digite uma palavra: Porta\n",
      "P - o - r - t - a\n"
     ]
    }
   ],
   "source": [
    "while True:\n",
    "    try:\n",
    "        palavra = input('Digite uma palavra: ')\n",
    "        palavra = palavra.strip()\n",
    "        if not palavra.isalpha():\n",
    "            raise TypeError('Digite apenas letras, por favor.')\n",
    "        for i in range(0, len(palavra)):\n",
    "            if i != len(palavra) - 1:\n",
    "                print(f'{palavra[i]} - ', end='')\n",
    "            else:\n",
    "                print(palavra[i])\n",
    "        break\n",
    "    except TypeError as err:\n",
    "        print(err)"
   ]
  },
  {
   "cell_type": "markdown",
   "id": "9cdc5e91",
   "metadata": {},
   "source": [
    "# Exercício 3"
   ]
  },
  {
   "cell_type": "markdown",
   "id": "34823ecb",
   "metadata": {},
   "source": [
    "<p>Faça uma função que recebe duas listas e retorna a soma item a item dessas listas.</p>"
   ]
  },
  {
   "cell_type": "code",
   "execution_count": 10,
   "id": "7dc51975",
   "metadata": {},
   "outputs": [],
   "source": [
    "import random"
   ]
  },
  {
   "cell_type": "code",
   "execution_count": 27,
   "id": "65a0d0bd",
   "metadata": {},
   "outputs": [],
   "source": [
    "def somalista(a, b):\n",
    "    if type(a) != list or type(b) != list:\n",
    "        raise TypeError('As variáveis devem ser do tipo list')\n",
    "    if len(a) != len(b):\n",
    "        raise Exception('As listas não possuem o mesmo tamanho!')\n",
    "    lista_vazia = []\n",
    "    for i in range(len(a)):\n",
    "        lista_vazia.append(a[i]+b[i])\n",
    "    return lista_vazia;"
   ]
  },
  {
   "cell_type": "code",
   "execution_count": 46,
   "id": "92e1afae",
   "metadata": {},
   "outputs": [
    {
     "name": "stdout",
     "output_type": "stream",
     "text": [
      "[2, 10, 9, 11]\n"
     ]
    }
   ],
   "source": [
    "try:\n",
    "    \n",
    "    lista = somalista([random.randint(1, 10) for i in range(4)],\n",
    "                      [random.randint(1, 10) for i in range(4)])\n",
    "    print(lista)\n",
    "except TypeError as err:\n",
    "    print(err)\n",
    "except ValueError as err:\n",
    "    print(err)\n",
    "except Exception as err:\n",
    "    print(err)"
   ]
  },
  {
   "cell_type": "markdown",
   "id": "cf1cfa08",
   "metadata": {},
   "source": [
    "# Exercício 4 e 5"
   ]
  },
  {
   "cell_type": "markdown",
   "id": "3011e8ba",
   "metadata": {},
   "source": [
    "<h3>4.</h3>\n",
    "<p>Crie um dicionário cujas chaves são os meses do ano e os valores são a duração (em dias) de cada mês.</p>"
   ]
  },
  {
   "cell_type": "code",
   "execution_count": 58,
   "id": "318bdbd0",
   "metadata": {},
   "outputs": [],
   "source": [
    "dicionario = {\n",
    "    'janeiro': 31,\n",
    "    'fevereiro': 28,\n",
    "    'março': 31,\n",
    "    'abril': 30,\n",
    "    'maio': 31,\n",
    "    'junho': 30,\n",
    "    'julho': 31,\n",
    "    'agosto': 31,\n",
    "    'setembro': 30,\n",
    "    'outubro': 31,\n",
    "    'novembro': 30,\n",
    "    'dezembro': 31\n",
    "}"
   ]
  },
  {
   "cell_type": "markdown",
   "id": "c2dc49a9",
   "metadata": {},
   "source": [
    "<h3>5.</h3>\n",
    "<p>Imprima as chaves seguidas dos seus valores para dicionário criado no exercício anterior.</p>"
   ]
  },
  {
   "cell_type": "code",
   "execution_count": 69,
   "id": "33ff732a",
   "metadata": {},
   "outputs": [
    {
     "name": "stdout",
     "output_type": "stream",
     "text": [
      "Janeiro - 31\n",
      "Fevereiro - 28\n",
      "Março - 31\n",
      "Abril - 30\n",
      "Maio - 31\n",
      "Junho - 30\n",
      "Julho - 31\n",
      "Agosto - 31\n",
      "Setembro - 30\n",
      "Outubro - 31\n",
      "Novembro - 30\n",
      "Dezembro - 31\n"
     ]
    }
   ],
   "source": [
    "for k in dicionario:\n",
    "    print(f'{k.capitalize()} - {dicionario[k]}')"
   ]
  }
 ],
 "metadata": {
  "kernelspec": {
   "display_name": "Python 3 (ipykernel)",
   "language": "python",
   "name": "python3"
  },
  "language_info": {
   "codemirror_mode": {
    "name": "ipython",
    "version": 3
   },
   "file_extension": ".py",
   "mimetype": "text/x-python",
   "name": "python",
   "nbconvert_exporter": "python",
   "pygments_lexer": "ipython3",
   "version": "3.10.6"
  }
 },
 "nbformat": 4,
 "nbformat_minor": 5
}
