{
 "cells": [
  {
   "cell_type": "markdown",
   "id": "af639b35",
   "metadata": {},
   "source": [
    "# Exercício 1"
   ]
  },
  {
   "cell_type": "markdown",
   "id": "bf61efb7",
   "metadata": {},
   "source": [
    "    Faça um programa que olhe todos os itens de uma lista e diga quantos deles \n",
    "    são pares."
   ]
  },
  {
   "cell_type": "code",
   "execution_count": 35,
   "id": "752e981c",
   "metadata": {},
   "outputs": [
    {
     "name": "stdout",
     "output_type": "stream",
     "text": [
      "Digite a quantidade de números a serem gerados: aa\n",
      "Digite apenas números, por favor.\n",
      "Digite a quantidade de números a serem gerados: 0\n",
      "Digite um número inteiro maior que 0, por favor.\n",
      "Digite a quantidade de números a serem gerados: 10\n",
      "Existem 8 números pares.\n"
     ]
    }
   ],
   "source": [
    "import random\n",
    "\n",
    "while True:\n",
    "    try:\n",
    "        qtd = input('Digite a quantidade de números a serem gerados: ')\n",
    "        qtd = qtd.strip()\n",
    "        numeros = []\n",
    "        pares = 0\n",
    "        if not qtd.isnumeric():\n",
    "            raise ValueError('Digite apenas números, por favor.')\n",
    "        if int(qtd) <= 0:\n",
    "            raise ValueError('Digite um número inteiro maior que 0, por favor.')\n",
    "        for i in range(0, int(qtd)):\n",
    "            numeros.append(random.randint(1, 10))\n",
    "        for n in numeros:\n",
    "            if n % 2 == 0:\n",
    "                pares += 1\n",
    "        print(f'Existem {pares} números pares.')\n",
    "        break\n",
    "    except ValueError as err:\n",
    "        print(err)"
   ]
  },
  {
   "cell_type": "markdown",
   "id": "2f9b4747",
   "metadata": {},
   "source": [
    "# Exercício 2"
   ]
  },
  {
   "cell_type": "markdown",
   "id": "8f154f33",
   "metadata": {},
   "source": [
    "    Faça um programa que peça para o usuário digitar uma palavra e imprima cada letra em uma linha."
   ]
  },
  {
   "cell_type": "code",
   "execution_count": 32,
   "id": "45976395",
   "metadata": {},
   "outputs": [
    {
     "name": "stdout",
     "output_type": "stream",
     "text": [
      "Digite uma palavra: Port4\n",
      "Digite apenas letras, por favor.\n",
      "Digite uma palavra: Porta\n",
      "P\n",
      "o\n",
      "r\n",
      "t\n",
      "a\n"
     ]
    }
   ],
   "source": [
    "while True:\n",
    "    try:\n",
    "        palavra = input('Digite uma palavra: ')\n",
    "        palavra = palavra.strip()\n",
    "        if not palavra.isalpha():\n",
    "            raise ValueError('Digite apenas letras, por favor.')\n",
    "        for letra in palavra:\n",
    "            print(letra)\n",
    "        break\n",
    "    except ValueError as err:\n",
    "        print(err)"
   ]
  },
  {
   "cell_type": "code",
   "execution_count": 34,
   "id": "867d7396",
   "metadata": {
    "scrolled": true
   },
   "outputs": [
    {
     "name": "stdout",
     "output_type": "stream",
     "text": [
      "Digite uma palavra: !\n",
      "Digite apenas letras, por favor.\n",
      "Digite uma palavra: Port4\n",
      "Digite apenas letras, por favor.\n",
      "Digite uma palavra: Porta\n",
      "P - o - r - t - a\n"
     ]
    }
   ],
   "source": [
    "# Outra forma de fazer\n",
    "\n",
    "while True:\n",
    "    try:\n",
    "        palavra = input('Digite uma palavra: ')\n",
    "        palavra = palavra.strip()\n",
    "        if not palavra.isalpha():\n",
    "            raise ValueError('Digite apenas letras, por favor.')\n",
    "        for i in range(0, len(palavra)):\n",
    "            if i != len(palavra) - 1:\n",
    "                print(f'{palavra[i]} - ', end='')\n",
    "            else:\n",
    "                print(palavra[i])\n",
    "        break\n",
    "    except ValueError as err:\n",
    "        print(err)"
   ]
  },
  {
   "cell_type": "markdown",
   "id": "9cdc5e91",
   "metadata": {},
   "source": [
    "# Exercício 3"
   ]
  },
  {
   "cell_type": "markdown",
   "id": "34823ecb",
   "metadata": {},
   "source": [
    "    Faça uma função que recebe duas listas e retorna a soma item a item dessas listas."
   ]
  },
  {
   "cell_type": "code",
   "execution_count": 78,
   "id": "65a0d0bd",
   "metadata": {},
   "outputs": [],
   "source": [
    "# Função posteriormente será otimizada.\n",
    "\n",
    "def somalista(*args):\n",
    "    for i in args:\n",
    "        if type(i) != list:\n",
    "            raise TypeError('Somente listas são aceitas!')\n",
    "    lista_resultado = args[0]\n",
    "    if len(args) > 1:\n",
    "        for i in range(1, len(args)):\n",
    "            if len(lista_resultado) != len(args[i]):\n",
    "                raise ValueError('As listas devem ser do mesmo tamanho.')\n",
    "            for j in range(0, len(args[i])):\n",
    "                if not str(lista_resultado[j]).isnumeric() or not str(args[i][j]).isnumeric():\n",
    "                    raise ValueError('A lista deve conter apenas números.')\n",
    "                lista_resultado[j] += args[i][j]\n",
    "    return lista_resultado"
   ]
  },
  {
   "cell_type": "code",
   "execution_count": 86,
   "id": "92e1afae",
   "metadata": {},
   "outputs": [
    {
     "name": "stdout",
     "output_type": "stream",
     "text": [
      "[4, 4, 4]\n"
     ]
    }
   ],
   "source": [
    "try:\n",
    "    lista = somalista([1,2,3],[3,2,1])\n",
    "    print(lista)\n",
    "except TypeError as err:\n",
    "    print(err)\n",
    "except ValueError as err:\n",
    "    print(err)"
   ]
  }
 ],
 "metadata": {
  "kernelspec": {
   "display_name": "Python 3 (ipykernel)",
   "language": "python",
   "name": "python3"
  },
  "language_info": {
   "codemirror_mode": {
    "name": "ipython",
    "version": 3
   },
   "file_extension": ".py",
   "mimetype": "text/x-python",
   "name": "python",
   "nbconvert_exporter": "python",
   "pygments_lexer": "ipython3",
   "version": "3.10.6"
  }
 },
 "nbformat": 4,
 "nbformat_minor": 5
}
